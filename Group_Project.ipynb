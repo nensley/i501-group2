{
 "cells": [
  {
   "cell_type": "code",
   "execution_count": 1,
   "metadata": {},
   "outputs": [],
   "source": [
    "# Import the packages we need\n",
    "\n",
    "import pandas as pd\n",
    "import numpy as np\n",
    "import matplotlib.pyplot as plt\n",
    "import seaborn as sns\n",
    "import plotly.express as px\n",
    "\n",
    "# Read the file and make the comlumn names\n",
    "variables = ['age', 'workclass', 'fnlwgt', 'education', 'eduyear', 'marital', 'occupation', 'relationship', 'race', 'sex', 'gain', 'loss', 'workperweek', 'born', 'income']\n",
    "Adult = pd.read_csv('D:/Projects_Py/INFO501/adult.csv', header = None, na_values = '?', names = variables)\n",
    "\n",
    "# Drop the colums having no meaning\n",
    "Adult = Adult.drop(columns=['fnlwgt', 'gain', 'loss'])\n",
    "\n"
   ]
  }
 ],
 "metadata": {
  "kernelspec": {
   "display_name": "INFO501",
   "language": "python",
   "name": "python3"
  },
  "language_info": {
   "codemirror_mode": {
    "name": "ipython",
    "version": 3
   },
   "file_extension": ".py",
   "mimetype": "text/x-python",
   "name": "python",
   "nbconvert_exporter": "python",
   "pygments_lexer": "ipython3",
   "version": "3.11.9"
  }
 },
 "nbformat": 4,
 "nbformat_minor": 2
}
